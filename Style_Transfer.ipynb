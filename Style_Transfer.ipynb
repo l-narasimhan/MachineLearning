{
  "nbformat": 4,
  "nbformat_minor": 0,
  "metadata": {
    "colab": {
      "name": "Session2.ipynb",
      "version": "0.3.2",
      "provenance": [],
      "collapsed_sections": [],
      "include_colab_link": true
    },
    "kernelspec": {
      "name": "python3",
      "display_name": "Python 3"
    },
    "accelerator": "GPU"
  },
  "cells": [
    {
      "cell_type": "markdown",
      "metadata": {
        "id": "view-in-github",
        "colab_type": "text"
      },
      "source": [
        "[View in Colaboratory](https://colab.research.google.com/github/lnarasimhan83/MachineLearning/blob/master/Style_Transfer.ipynb)"
      ]
    },
    {
      "metadata": {
        "id": "OZ6yO40O1li7",
        "colab_type": "code",
        "colab": {
          "base_uri": "https://localhost:8080/",
          "height": 34
        },
        "outputId": "7bc73e49-d577-407b-cb32-01309309b99d"
      },
      "cell_type": "code",
      "source": [
        "from __future__ import print_function\n",
        "\n",
        "import time\n",
        "from PIL import Image\n",
        "import numpy as np\n",
        "\n",
        "from keras import backend\n",
        "from keras.models import Model\n",
        "from keras.applications.vgg16 import VGG16\n",
        "from keras.applications import DenseNet121\n",
        "\n",
        "\n",
        "from scipy.optimize import fmin_l_bfgs_b\n",
        "from scipy.misc import imsave\n",
        "import copy\n",
        "\n",
        "import requests\n",
        "from io import BytesIO\n",
        "from io import StringIO\n",
        "import IPython.display"
      ],
      "execution_count": 1,
      "outputs": [
        {
          "output_type": "stream",
          "text": [
            "Using TensorFlow backend.\n"
          ],
          "name": "stderr"
        }
      ]
    },
    {
      "metadata": {
        "id": "NN6syZN763t-",
        "colab_type": "code",
        "colab": {
          "base_uri": "https://localhost:8080/",
          "height": 185
        },
        "outputId": "99bb3186-9008-4b7b-f056-f7660a1f21a7"
      },
      "cell_type": "code",
      "source": [
        "# Code for uploading files\n",
        "from scipy.misc import imread, imsave, imresize\n",
        "from google.colab import files\n",
        "import numpy as np\n",
        "def upload_files():\n",
        "  \n",
        "  uploaded = files.upload()\n",
        "  for k, v in uploaded.items():\n",
        "    open(k, 'wb').write(v)\n",
        "  return list(uploaded.keys())\n",
        "\n",
        "list1 = upload_files()\n",
        "print (list1)\n",
        "train_file = list1[0]"
      ],
      "execution_count": 0,
      "outputs": [
        {
          "output_type": "stream",
          "text": [
            "<class 'int'>\n",
            "3\n",
            "4\n",
            "2\n",
            "6\n",
            "9\n",
            "4\n",
            "8\n",
            "<class 'float'>\n",
            "2.5 3.5 5.0 6.25\n"
          ],
          "name": "stdout"
        }
      ]
    },
    {
      "metadata": {
        "id": "V-UXm5nZ_jv9",
        "colab_type": "code",
        "colab": {
          "base_uri": "https://localhost:8080/",
          "height": 101
        },
        "outputId": "5c2face6-b419-43cd-ad89-077b7a84734d"
      },
      "cell_type": "code",
      "source": [
        "height = 512\n",
        "width = 512\n",
        "from PIL import Image\n",
        "content_image_path = './HUGO.png'\n",
        "content_image = Image.open(content_image_path)\n",
        "content_image = content_image.resize((width, height))\n",
        "content_image"
      ],
      "execution_count": 0,
      "outputs": [
        {
          "output_type": "stream",
          "text": [
            "<class 'bool'>\n",
            "False\n",
            "True\n",
            "False\n",
            "True\n"
          ],
          "name": "stdout"
        }
      ]
    },
    {
      "metadata": {
        "id": "2zUMeQZUpOJ0",
        "colab_type": "code",
        "colab": {
          "base_uri": "https://localhost:8080/",
          "height": 84
        },
        "outputId": "400d7987-ee29-409a-8928-d72f716b5c47"
      },
      "cell_type": "code",
      "source": [
        "style_image_path = 'WAVE.png'\n",
        "style_image = Image.open(style_image_path)\n",
        "style_image = style_image.resize((width, height))\n",
        "style_image"
      ],
      "execution_count": 0,
      "outputs": [
        {
          "output_type": "stream",
          "text": [
            "hello\n",
            "5\n",
            "hello world\n",
            "hello world 12\n"
          ],
          "name": "stdout"
        }
      ]
    },
    {
      "metadata": {
        "id": "Y1qaLbNrZK4v",
        "colab_type": "code",
        "colab": {}
      },
      "cell_type": "code",
      "source": [
        "content_array = np.asarray(content_image, dtype='float32')\n",
        "content_array = np.expand_dims(content_array, axis=0)\n",
        "print(content_array.shape)\n",
        "\n",
        "style_array = np.asarray(style_image, dtype='float32')\n",
        "style_array = np.expand_dims(style_array, axis=0)\n",
        "print(style_array.shape)"
      ],
      "execution_count": 0,
      "outputs": []
    },
    {
      "metadata": {
        "id": "LRXvDZ7DZNHL",
        "colab_type": "code",
        "colab": {}
      },
      "cell_type": "code",
      "source": [
        "content_array[:, :, :, 0] -= 103.939\n",
        "content_array[:, :, :, 1] -= 116.779\n",
        "content_array[:, :, :, 2] -= 123.68\n",
        "content_array = content_array[:, :, :, ::-1]\n",
        "\n",
        "style_array[:, :, :, 0] -= 103.939\n",
        "style_array[:, :, :, 1] -= 116.779\n",
        "style_array[:, :, :, 2] -= 123.68\n",
        "style_array = style_array[:, :, :, ::-1]"
      ],
      "execution_count": 0,
      "outputs": []
    },
    {
      "metadata": {
        "id": "6-0ebdjrZO7v",
        "colab_type": "code",
        "colab": {}
      },
      "cell_type": "code",
      "source": [
        "\n",
        "content_imagecontent  = backend.variable(content_array)\n",
        "style_image = backend.variable(style_array)\n",
        "combination_image = backend.placeholder((1, height, width, 3))"
      ],
      "execution_count": 0,
      "outputs": []
    },
    {
      "metadata": {
        "id": "XS3WHAGRZPXz",
        "colab_type": "code",
        "colab": {}
      },
      "cell_type": "code",
      "source": [
        "input_tensor = backend.concatenate([content_image,\n",
        "                                    style_image,\n",
        "                                    combination_image], axis=0)"
      ],
      "execution_count": 0,
      "outputs": []
    },
    {
      "metadata": {
        "id": "v6GPn1JWZUDN",
        "colab_type": "code",
        "colab": {}
      },
      "cell_type": "code",
      "source": [
        "model = VGG16(input_tensor=input_tensor, weights='imagenet',\n",
        "              include_top=False)"
      ],
      "execution_count": 0,
      "outputs": []
    },
    {
      "metadata": {
        "id": "VMmWOchgZT7f",
        "colab_type": "code",
        "colab": {}
      },
      "cell_type": "code",
      "source": [
        "layers = dict([(layer.name, layer.output) for layer in model.layers])\n",
        "layers"
      ],
      "execution_count": 0,
      "outputs": []
    },
    {
      "metadata": {
        "id": "IAU4Zg0IZpti",
        "colab_type": "code",
        "colab": {}
      },
      "cell_type": "code",
      "source": [
        "content_weight = 0.025\n",
        "style_weight = 5.0\n",
        "total_variation_weight = 1.0"
      ],
      "execution_count": 0,
      "outputs": []
    },
    {
      "metadata": {
        "id": "y-ChmympZq-h",
        "colab_type": "code",
        "colab": {}
      },
      "cell_type": "code",
      "source": [
        "\n",
        "lossloss  ==  backendbackend..variablevariable(0.)"
      ],
      "execution_count": 0,
      "outputs": []
    },
    {
      "metadata": {
        "id": "DAiB7S0KZr4x",
        "colab_type": "code",
        "colab": {}
      },
      "cell_type": "code",
      "source": [
        "def content_loss(content, combination):\n",
        "    return backend.sum(backend.square(combination - content))\n",
        "\n",
        "layer_features = layers['block2_conv2']\n",
        "content_image_features = layer_features[0, :, :, :]\n",
        "combination_features = layer_features[2, :, :, :]\n",
        "\n",
        "loss += content_weight * content_loss(content_image_features,\n",
        "                                      combination_features)"
      ],
      "execution_count": 0,
      "outputs": []
    },
    {
      "metadata": {
        "id": "MYO2k44EZvJ3",
        "colab_type": "code",
        "colab": {}
      },
      "cell_type": "code",
      "source": [
        "def gram_matrix(x):\n",
        "    features = backend.batch_flatten(backend.permute_dimensions(x, (2, 0, 1)))\n",
        "    gram = backend.dot(features, backend.transpose(features))\n",
        "    return gram"
      ],
      "execution_count": 0,
      "outputs": []
    },
    {
      "metadata": {
        "id": "hRQ1A3njZyfp",
        "colab_type": "code",
        "colab": {}
      },
      "cell_type": "code",
      "source": [
        "def style_loss(style, combination):\n",
        "    S = gram_matrix(style)\n",
        "    C = gram_matrix(combination)\n",
        "    channels = 3\n",
        "    size = height * width\n",
        "    return backend.sum(backend.square(S - C)) / (4. * (channels ** 2) * (size ** 2))\n",
        "\n",
        "feature_layers = ['block1_conv2', 'block2_conv2',\n",
        "                  'block3_conv3', 'block4_conv3',\n",
        "                  'block5_conv3']\n",
        "for layer_name in feature_layers:\n",
        "    layer_features = layers[layer_name]\n",
        "    style_features = layer_features[1, :, :, :]\n",
        "    combination_features = layer_features[2, :, :, :]\n",
        "    sl = style_loss(style_features, combination_features)\n",
        "    loss += (style_weight / len(feature_layers)) * sl"
      ],
      "execution_count": 0,
      "outputs": []
    },
    {
      "metadata": {
        "id": "Pz7YA93KZ0ky",
        "colab_type": "code",
        "colab": {}
      },
      "cell_type": "code",
      "source": [
        "def total_variation_loss(x):\n",
        "    a = backend.square(x[:, :height-1, :width-1, :] - x[:, 1:, :width-1, :])\n",
        "    b = backend.square(x[:, :height-1, :width-1, :] - x[:, :height-1, 1:, :])\n",
        "    return backend.sum(backend.pow(a + b, 1.25))\n",
        "\n",
        "loss += total_variation_weight * total_variation_loss(combination_image"
      ],
      "execution_count": 0,
      "outputs": []
    },
    {
      "metadata": {
        "id": "8cCsXQIaZ1e2",
        "colab_type": "code",
        "colab": {}
      },
      "cell_type": "code",
      "source": [
        "grads = backend.gradients(loss, combination_image)"
      ],
      "execution_count": 0,
      "outputs": []
    },
    {
      "metadata": {
        "id": "H_tNuNgtZ4Gh",
        "colab_type": "code",
        "colab": {}
      },
      "cell_type": "code",
      "source": [
        "outputs = [loss]\n",
        "outputs += grads\n",
        "f_outputs = backend.function([combination_image], outputs)\n",
        "\n",
        "def eval_loss_and_grads(x):\n",
        "    x = x.reshape((1, height, width, 3))\n",
        "    outs = f_outputs([x])\n",
        "    loss_value = outs[0]\n",
        "    grad_values = outs[1].flatten().astype('float64')\n",
        "    return loss_value, grad_values\n",
        "\n",
        "class Evaluator(object):\n",
        "\n",
        "    def __init__(self):\n",
        "        self.loss_value = None\n",
        "        self.grads_values = None\n",
        "\n",
        "    def loss(self, x):\n",
        "        assert self.loss_value is None\n",
        "        loss_value, grad_values = eval_loss_and_grads(x)\n",
        "        self.loss_value = loss_value\n",
        "        self.grad_values = grad_values\n",
        "        return self.loss_value\n",
        "\n",
        "    def grads(self, x):\n",
        "        assert self.loss_value is not None\n",
        "        grad_values = np.copy(self.grad_values)\n",
        "        self.loss_value = None\n",
        "        self.grad_values = None\n",
        "        return grad_values\n",
        "\n",
        "evaluator = Evaluator()"
      ],
      "execution_count": 0,
      "outputs": []
    },
    {
      "metadata": {
        "id": "LRT-QM3tZ7p5",
        "colab_type": "code",
        "colab": {}
      },
      "cell_type": "code",
      "source": [
        "x = np.random.uniform(0, 255, (1, height, width, 3)) - 128.\n",
        "\n",
        "iterations = 10\n",
        "\n",
        "for i in range(iterations):\n",
        "    print('Start of iteration', i)\n",
        "    start_time = time.time()\n",
        "    x, min_val, info = fmin_l_bfgs_b(evaluator.loss, x.flatten(),\n",
        "                                     fprime=evaluator.grads, maxfun=20)\n",
        "    print('Current loss value:', min_val)\n",
        "    end_time = time.time()\n",
        "    print('Iteration %d completed in %ds' % (i, end_time - start_time))"
      ],
      "execution_count": 0,
      "outputs": []
    },
    {
      "metadata": {
        "id": "DGqREfr9Z_Bx",
        "colab_type": "code",
        "colab": {}
      },
      "cell_type": "code",
      "source": [
        "x = x.reshape((height, width, 3))\n",
        "x = x[:, :, ::-1]\n",
        "x[:, :, 0] += 103.939\n",
        "x[:, :, 1] += 116.779\n",
        "x[:, :, 2] += 123.68\n",
        "x = np.clip(x, 0, 255).astype('uint8')\n",
        "\n",
        "Image.fromarray(x)"
      ],
      "execution_count": 0,
      "outputs": []
    }
  ]
}
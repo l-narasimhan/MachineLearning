{
  "nbformat": 4,
  "nbformat_minor": 0,
  "metadata": {
    "colab": {
      "name": "Lakshmi_Narasimhan_Batch B.ipynb",
      "version": "0.3.2",
      "provenance": []
    },
    "kernelspec": {
      "name": "python3",
      "display_name": "Python 3"
    }
  },
  "cells": [
    {
      "cell_type": "markdown",
      "metadata": {
        "id": "view-in-github",
        "colab_type": "text"
      },
      "source": [
        "[View in Colaboratory](https://colab.research.google.com/github/lnarasimhan83/MachineLearning/blob/master/Lakshmi_Narasimhan_Batch_B.ipynb)"
      ]
    },
    {
      "metadata": {
        "id": "YnH7rGTJ-xhj",
        "colab_type": "text"
      },
      "cell_type": "markdown",
      "source": [
        "#Style Transfer Using Densent & Keras   \n",
        "####- Lakshmi Narasimhan Batch B  \n"
      ]
    },
    {
      "metadata": {
        "id": "1tmnXoPU_Zew",
        "colab_type": "text"
      },
      "cell_type": "markdown",
      "source": [
        "##Introduction \n",
        "\n",
        "Ever wondered how the apps like [Prisma](https://prisma-ai.com/)  works ? A photo from the camera and a design image together producing a new image with content from photo and style from the design image. This is possible with a technique called **style transfer** in deep learning. \n",
        "\n",
        "The main idea behind style transfer is to take two images, say, a photo of a person, and a painting, and use these to create a third image that combines the content of the former with the style of the later. \n",
        "\n",
        "It all started with Gayts et al publishing a paper on [artistic style transfer](https://https://arxiv.org/abs/1508.06576)"
      ]
    },
    {
      "metadata": {
        "id": "ZnCV4zz6YCs6",
        "colab_type": "text"
      },
      "cell_type": "markdown",
      "source": [
        "###Example:\n",
        "\n",
        "![Content Image](https://http://www.tatiluzmani.tv/wp-content/uploads/2014/10/Philadelphia-City-Hall-Philadelphia-USA.jpg)\n",
        "\n",
        "\n"
      ]
    },
    {
      "metadata": {
        "id": "7CFNNyUxaHfA",
        "colab_type": "code",
        "colab": {}
      },
      "cell_type": "code",
      "source": [
        ""
      ],
      "execution_count": 0,
      "outputs": []
    }
  ]
}